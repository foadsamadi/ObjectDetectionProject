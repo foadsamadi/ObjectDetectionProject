{
 "cells": [
  {
   "cell_type": "markdown",
   "metadata": {},
   "source": [
    "# Explore the dataset\n",
    "\n",
    "\n",
    "In this notebook, we will perform an EDA (Exploratory Data Analysis) on the processed Waymo dataset (data in the `processed` folder). In the first part, you will create a function to display "
   ]
  },
  {
   "cell_type": "code",
   "execution_count": 1,
   "metadata": {},
   "outputs": [],
   "source": [
    "from utils import get_dataset\n",
    "import glob\n",
    "import matplotlib.pyplot as plt\n",
    "import matplotlib.patches as patches\n",
    "import numpy as np\n",
    "import tensorflow as tf\n",
    "\n",
    "%matplotlib inline"
   ]
  },
  {
   "cell_type": "code",
   "execution_count": 2,
   "metadata": {
    "scrolled": true
   },
   "outputs": [
    {
     "name": "stdout",
     "output_type": "stream",
     "text": [
      "INFO:tensorflow:Reading unweighted datasets: ['/home/workspace/data/train/*.tfrecord']\n",
      "INFO:tensorflow:Reading record datasets for input file: ['/home/workspace/data/train/*.tfrecord']\n",
      "INFO:tensorflow:Number of filenames to read: 86\n",
      "WARNING:tensorflow:From /data/virtual_envs/sdc-c1-gpu-augment/lib/python3.7/site-packages/object_detection/builders/dataset_builder.py:105: parallel_interleave (from tensorflow.python.data.experimental.ops.interleave_ops) is deprecated and will be removed in a future version.\n",
      "Instructions for updating:\n",
      "Use `tf.data.Dataset.interleave(map_func, cycle_length, block_length, num_parallel_calls=tf.data.experimental.AUTOTUNE)` instead. If sloppy execution is desired, use `tf.data.Options.experimental_deterministic`.\n",
      "WARNING:tensorflow:From /data/virtual_envs/sdc-c1-gpu-augment/lib/python3.7/site-packages/object_detection/builders/dataset_builder.py:237: DatasetV1.map_with_legacy_function (from tensorflow.python.data.ops.dataset_ops) is deprecated and will be removed in a future version.\n",
      "Instructions for updating:\n",
      "Use `tf.data.Dataset.map()\n"
     ]
    }
   ],
   "source": [
    "#dataset = get_dataset(\"/home/workspace/data/waymo/training_and_validation/*.tfrecord\")\n",
    "dataset = get_dataset(\"/home/workspace/data/train/*.tfrecord\")"
   ]
  },
  {
   "cell_type": "markdown",
   "metadata": {},
   "source": [
    "## Write a function to display an image and the bounding boxes\n",
    "\n",
    "Implement the `display_images` function below. This function takes a batch as an input and display an image with its corresponding bounding boxes. The only requirement is that the classes should be color coded (eg, vehicles in red, pedestrians in blue, cyclist in green)."
   ]
  },
  {
   "cell_type": "code",
   "execution_count": null,
   "metadata": {},
   "outputs": [],
   "source": [
    "def display_images(batch):\n",
    "    # TODO - Your implementation here\n",
    "    fig,ax=plt.subplots()\n",
    "    img=batch[\"image\"].numpy()\n",
    "    ax.imshow(img)\n",
    "    \n",
    "    colormap={1:[1,0,0], 2:[0,1,0], 3:[0,0,1]}\n",
    "    labelmap={1:\"Vehicle\", 2:\"Pedestrian\", 4:\"Cyclist\"}\n",
    "    \n",
    "    for bbox, label in zip(batch['groundtruth_boxes'].numpy(), batch['groundtruth_classes'].numpy()):\n",
    "        y1,x1,y2,x2=bbox\n",
    "        x1,x2=x1*img.shape[0],x2*img.shape[0]\n",
    "        y1,y2=y1*img.shape[1],y2*img.shape[1]\n",
    "        xy=(x1,y1)\n",
    "        width=x2-x1\n",
    "        height=y2-y1\n",
    "        rec=patches.Rectangle(xy,width,height,linewidth=1,edgecolor=colormap[label],facecolor='none')\n",
    "        ax.add_patch(rec)\n",
    "    plt.axis('off')\n"
   ]
  },
  {
   "cell_type": "markdown",
   "metadata": {},
   "source": [
    "## Display 10 images \n",
    "\n",
    "Using the dataset created in the second cell and the function you just coded, display 10 random images with the associated bounding boxes. You can use the methods `take` and `shuffle` on the dataset."
   ]
  },
  {
   "cell_type": "code",
   "execution_count": null,
   "metadata": {},
   "outputs": [],
   "source": [
    "# Display 10 random images in dataset\n",
    "plt.figure(figsize=(20,20))\n",
    "\n",
    "buffersize=60\n",
    "batchsize=10\n",
    "\n",
    "shuffledbatch=dataset.shuffle(buffer_size=buffersize,reshuffle_each_iteration=True).take(batchsize)\n",
    "\n",
    "for img in shuffledbatch:\n",
    "    display_images(img)\n",
    "plt.show()"
   ]
  },
  {
   "cell_type": "markdown",
   "metadata": {},
   "source": [
    "## Additional EDA\n",
    "\n",
    "In this last part, you are free to perform any additional analysis of the dataset. What else would like to know about the data?\n",
    "For example, think about data distribution. So far, you have only looked at a single file..."
   ]
  },
  {
   "cell_type": "code",
   "execution_count": 3,
   "metadata": {
    "scrolled": true
   },
   "outputs": [],
   "source": [
    "import seaborn as sns\n"
   ]
  },
  {
   "cell_type": "code",
   "execution_count": 4,
   "metadata": {},
   "outputs": [],
   "source": [
    "labels={1:0,2:0, 4:0}\n",
    "labelsdict={1:[],2:[],4:[]}\n",
    "Classes={1:'Vehicle',2:'Pedestrian',4:'Cyclist'}"
   ]
  },
  {
   "cell_type": "code",
   "execution_count": 5,
   "metadata": {},
   "outputs": [],
   "source": [
    "batchsize=5000\n",
    "\n",
    "for imgs in dataset.take(batchsize):\n",
    "    try:\n",
    "        counts={1:0,2:0, 4:0}\n",
    "        for i in imgs[\"groundtruth_classes\"].numpy():\n",
    "            labels[i]+=1\n",
    "            counts[i]+=1\n",
    "            labelsdict[i].append(counts[i])\n",
    "    except Exception as err:\n",
    "        print(err)\n",
    "\n"
   ]
  },
  {
   "cell_type": "code",
   "execution_count": 6,
   "metadata": {
    "scrolled": true
   },
   "outputs": [
    {
     "data": {
      "image/png": "[encoded data removed]",
      "text/plain": [
       "<Figure size 360x360 with 1 Axes>"
      ]
     },
     "metadata": {
      "needs_background": "light"
     },
     "output_type": "display_data"
    },
    {
     "data": {
      "image/png": "[encoded data removed]",
      "text/plain": [
       "<Figure size 360x360 with 1 Axes>"
      ]
     },
     "metadata": {
      "needs_background": "light"
     },
     "output_type": "display_data"
    },
    {
     "data": {
      "image/png": "[encoded data removed]",
      "text/plain": [
       "<Figure size 360x360 with 1 Axes>"
      ]
     },
     "metadata": {
      "needs_background": "light"
     },
     "output_type": "display_data"
    }
   ],
   "source": [
    "for label in labelsdict:\n",
    "    ax_hist = sns.displot(x=labelsdict[label])\n",
    "    ax_hist.set(xlabel = Classes[label]+'s', ylabel='Frequency', title='Frequency distribution')"
   ]
  },
  {
   "cell_type": "markdown",
   "metadata": {},
   "source": [
    "# Image analysis\n",
    "## Brightness\n",
    "\n",
    "In the following, we just show how we can obtain brightness of each image. We can do some statistics works based on this metric which is not performed in this analysis."
   ]
  },
  {
   "cell_type": "code",
   "execution_count": null,
   "metadata": {},
   "outputs": [],
   "source": [
    "from PIL import Image, ImageStat\n",
    "\n",
    "def avg_brightness(img):\n",
    "    imgarray = Image.fromarray(np.uint8(img)).convert('L')\n",
    "    stat = ImageStat.Stat(imgarray)\n",
    "    return stat.mean[0]"
   ]
  },
  {
   "cell_type": "code",
   "execution_count": null,
   "metadata": {
    "scrolled": true
   },
   "outputs": [],
   "source": [
    "plt.figure(figsize=(20,20))\n",
    "for img in shuffledbatch:\n",
    "    fig,ax=plt.subplots()\n",
    "    brightness=avg_brightness(img['image'].numpy())\n",
    "    ax.imshow(img['image'].numpy())\n",
    "    ax.set_xlabel(brightness)\n",
    "\n",
    "plt.show()    "
   ]
  },
  {
   "cell_type": "code",
   "execution_count": null,
   "metadata": {},
   "outputs": [],
   "source": []
  }
 ],
 "metadata": {
  "kernelspec": {
   "display_name": "Python 3",
   "language": "python",
   "name": "python3"
  },
  "language_info": {
   "codemirror_mode": {
    "name": "ipython",
    "version": 3
   },
   "file_extension": ".py",
   "mimetype": "text/x-python",
   "name": "python",
   "nbconvert_exporter": "python",
   "pygments_lexer": "ipython3",
   "version": "3.7.3"
  }
 },
 "nbformat": 4,
 "nbformat_minor": 4
}
